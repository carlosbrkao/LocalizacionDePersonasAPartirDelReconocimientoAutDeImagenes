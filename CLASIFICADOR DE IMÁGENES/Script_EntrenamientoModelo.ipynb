{
 "cells": [
  {
   "cell_type": "markdown",
   "id": "4c627929",
   "metadata": {},
   "source": [
    "# SCRIPT PARA ENTRENAR MODELO\n",
    "Script encargado de reentrenar un modelo previamente entrenado en un dataset gigantesco, para no partir de cero en el entrenamiento y ahorrando tiempo de entrenamiento y obteniendo modelos más eficientes con la libreria *tflite-model-maker*"
   ]
  },
  {
   "cell_type": "markdown",
   "id": "4d2f1dcb",
   "metadata": {},
   "source": [
    "### IMPORTACIÓN DE LIBRERIAS NECESARIAS\n",
    "Se definen el conjunto de librerias necesarias utilizadas para reentrenar el modelo con un dataset local, estas son:\n",
    "* TensorFlow (librería principal de inteligencia artificial) [tf]\n",
    "* Metodos de TFlite-Model-Maker (librería principal para el reentreanmiento de modelos de inteligencia artificial)  [tflite-model-maker]\n",
    "* PyPlot (librería mostrar un resultado de prediccion del modelo entrenado)  [plt]\n",
    "* DateTime (librería para mostrar marcas de tiempo para valorar duracion del entrenamiento)  [datetime]"
   ]
  },
  {
   "cell_type": "code",
   "execution_count": null,
   "id": "3ec1a5f7",
   "metadata": {},
   "outputs": [],
   "source": [
    "import tensorflow as tf\n",
    "print(tf.__version__)\n",
    "assert tf.__version__.startswith('2')\n",
    "from tensorflow.python.client import device_lib\n",
    "from tflite_model_maker import model_spec\n",
    "from tflite_model_maker import image_classifier\n",
    "from tflite_model_maker.config import ExportFormat\n",
    "from tflite_model_maker.config import QuantizationConfig\n",
    "from tflite_model_maker.image_classifier import DataLoader\n",
    "import matplotlib.pyplot as plt\n",
    "from datetime import datetime"
   ]
  },
  {
   "cell_type": "markdown",
   "id": "07d96c37",
   "metadata": {},
   "source": [
    "### COMPROBACIONES INICIALES DE QUE SE DISPONE DE GPU\n",
    "Debido a que reentrenar estos modelo necesita una capacidad de cómputo razonable y gran tiempo en el proceso, es importante tener de una unidad GPU para la aceleración software, en caso de no encontrar sería recomendable buscar un entorno en la nube para llevar a cabo el reentrenamiento."
   ]
  },
  {
   "cell_type": "code",
   "execution_count": null,
   "id": "0be1c19e",
   "metadata": {},
   "outputs": [],
   "source": [
    "print(\"||----------------------- LISTADO DE DISPOSITIVOS --------------------||\")\n",
    "print(\"||------------------------------ RESUMEN -----------------------------||\")\n",
    "print(\"GPUs: \",len(tf.config.list_physical_devices('GPU')))\n",
    "gpus = tf.config.list_physical_devices('GPU')\n",
    "if gpus:\n",
    "    try:\n",
    "        tf.config.set_visible_devices(gpus[0],'GPU')\n",
    "        logical_gpus = tf.config.list_logical_devices('GPU')\n",
    "        print(len(gpus),\" GPUs físicas, \", len(logical_gpus),\" GPUs lógicas\")\n",
    "    except RuntimeError as error:\n",
    "        print(error)\n",
    "print(\"||--------------------------- CARACTERÍSTICAS ------------------------||\")\n",
    "print(device_lib.list_local_devices())\n"
   ]
  },
  {
   "cell_type": "markdown",
   "id": "a4dbae30",
   "metadata": {},
   "source": [
    "### DEFINICION DE RUTA DE RAIZ CONJUNTO ENTRENAMIENTO\n",
    "Definimos la ruta absoluta a la raíz de la que cuelgan las carpetas etiquetadas para el posterior entrenamiento"
   ]
  },
  {
   "cell_type": "code",
   "execution_count": null,
   "id": "222bd06f",
   "metadata": {},
   "outputs": [],
   "source": [
    "# Entrenamiento X salas aumentado\n",
    "#ruta_dataset = 'D:\\TFG\\EXPERIMENTOS\\DATASET_MUSEO\\DatasetXSalasAug' \n",
    "# Entrenamiento X vitrinas aumentado\n",
    "ruta_dataset = 'D:\\TFG\\EXPERIMENTOS\\DATASET_MUSEO\\DatasetXVitrinaAug' "
   ]
  },
  {
   "cell_type": "markdown",
   "id": "a3b6d96e",
   "metadata": {},
   "source": [
    "### DIVISION DEL DATASET\n",
    "Division del dataset de acuerdo con los 3 posibles subconjuntos a crear:\n",
    "* Conjunto entrenamiento (80% dataset)\n",
    "* Conjunto validacion (10% dataset)\n",
    "* Conjunto test (10% dataset)"
   ]
  },
  {
   "cell_type": "code",
   "execution_count": null,
   "id": "e60d6c12",
   "metadata": {},
   "outputs": [],
   "source": [
    "datos = DataLoader.from_folder(ruta_dataset)#shuffle=True\n",
    "datosEntrenamiento,testyValidacion = datos.split(0.8)\n",
    "datosTest,datosValidacion = testyValidacion.split(0.5)"
   ]
  },
  {
   "cell_type": "markdown",
   "id": "ee983dc9",
   "metadata": {},
   "source": [
    "### ENTRENAMIENTO DEL MODELO\n",
    "Seleccion del modelo a preentrenar y ajuste de sus hiperparámetros\n",
    "* ESTRUCTURA METODO image_classifier.create\n",
    "~~~\n",
    "train_data \n",
    "model_spec ('efficient_lite0')\n",
    "validation_data (None)\n",
    "batch_size (None) [64]\n",
    "epochs (None) [10]\n",
    "steps_per_epoch (None)\n",
    "train_whole_model (None)\n",
    "dropout_rate (None) [0.2]\n",
    "learning_rate (None) [0.004]\n",
    "momentum (None) \n",
    "shuffle (False)\n",
    "use_augmentation (False)\n",
    "use_hub_library (True)[]\n",
    "warmups_steps (None) [None]\n",
    "model_dir (None) [tempfile.mkdtemp()]\n",
    "do_train (True)\n",
    "~~~\n",
    "* EXPORTACION DE TFHUB\n",
    "~~~\n",
    "modelo_exportado = image_classifier.ModelSpec(uri='https://tfhub.dev/ruta_modelo')\n",
    "modelo_exportado.input_image_shape = [x,x]\n",
    "modelo = image_classifier.create(conjuntoEntrenamiento,model_spec=modelo_exportado,...)\n",
    "# https://tfhub.dev/google/imagenet/efficientnet_v2_imagenet21k_ft1k_m/classification/2\n",
    "~~~\n",
    "* EXPORTACION DE TFLITE MODEL MAKER\n",
    "~~~\n",
    "modelomodelo = image_classifier.create(conjuntoEntrenamiento,model_spec='modelo_tflite',...)\n",
    "~~~"
   ]
  },
  {
   "cell_type": "code",
   "execution_count": null,
   "id": "a2cf5d2c",
   "metadata": {
    "scrolled": true
   },
   "outputs": [],
   "source": [
    "# MARCA TIEMPO\n",
    "now = datetime.now()\n",
    "print(\"INICIO =\", now)\n",
    "print(\"||------------------------- INICIO ENTRENAMIENTO ----------------------||\")\n",
    "modelo = image_classifier.create(datosEntrenamiento,\n",
    "                                 model_spec='efficientnet_lite4',\n",
    "                                 validation_data=datosValidacion,\n",
    "                                 batch_size=32,\n",
    "                                 epochs=20,\n",
    "                                 shuffle=True)\n",
    "# MARCA TIEMPO\n",
    "now = datetime.now()\n",
    "print(\"||-------------------------- FINAL ENTRENAMIENTO -----------------------||\")\n",
    "print(\"FINAL =\", now)"
   ]
  },
  {
   "cell_type": "markdown",
   "id": "02ea6d35",
   "metadata": {},
   "source": [
    "### EVALUACION DEL RESULTADO DEL MODELO RECIÉN GENERADO \n",
    "Comprobacion del modelo reentrenado con el conjunto del dataset de test, mediante un extacto de loss y accuracy resultante; con un ejemplo de predicción"
   ]
  },
  {
   "cell_type": "code",
   "execution_count": null,
   "id": "cfe1ea3c",
   "metadata": {},
   "outputs": [],
   "source": [
    "# Funcion para indicar el resultado positivo o negativo en el label\n",
    "print(\"||---------------------------- PRUEBA PREDICCION -----------------------||\")\n",
    "def get_label_color(val1,val2):\n",
    "    if val1 == val2:\n",
    "        return 'green'\n",
    "    else:\n",
    "        return 'red'\n",
    "    \n",
    "# Comprobacion de las 100 primeras imagenes de test\n",
    "plt.figure(figsize=(20,20))\n",
    "predicciones = modelo.predict_top_k(datosTest)\n",
    "for i,(image,label) in enumerate(datosTest.gen_dataset().unbatch().take(100)):\n",
    "    ax = plt.subplot(10,10,i+1)\n",
    "    plt.xticks([])\n",
    "    plt.yticks([])\n",
    "    plt.grid(False)\n",
    "    plt.imshow(image.numpy(),cmap=plt.cm.gray)\n",
    "    etiqueta_predecida = predicciones[i][0][0]\n",
    "    color = get_label_color(etiqueta_predecida,datosTest.index_to_label[label.numpy()])\n",
    "    ax.xaxis.label.set_color(color)\n",
    "    plt.xlabel('Predicted: %s' %etiqueta_predecida)\n",
    "    \n",
    "plt.show()\n",
    "print(\"||-------------------------- EVALUACION DEL MODELO ---------------------||\")\n",
    "modelo.evaluate(datosTest)"
   ]
  },
  {
   "cell_type": "markdown",
   "id": "f415050b",
   "metadata": {},
   "source": [
    "### EXPORTACION DEL MODELO AL FORMATO ADECUADO (.tflite)\n",
    "Exportacion del modelo a formato compatible con Android y evalución del modelo exportado en el formato tflite"
   ]
  },
  {
   "cell_type": "code",
   "execution_count": null,
   "id": "2d021da0",
   "metadata": {},
   "outputs": [],
   "source": [
    "print(\"||-------------------------- EXPORTACION DEL MODELO --------------------||\")\n",
    "modelo.export(export_dir = 'D:\\\\TFG\\\\EXPERIMENTOS\\\\ModelosMuseo\\\\efficientnet_lite4_vitrinas_20220705',export_format=ExportFormat.TFLITE)\n",
    "modelo.export(export_dir = 'D:\\\\TFG\\\\EXPERIMENTOS\\\\ModelosMuseo\\\\efficientnet_lite4_vitrinas_20220705',export_format=ExportFormat.LABEL)\n",
    "modelo.export(export_dir = 'D:\\\\TFG\\\\EXPERIMENTOS\\\\ModelosMuseo\\\\efficientnet_lite4_vitrinas_20220705',export_format=ExportFormat.SAVED_MODEL)\n",
    "print(\"||----------------------- EVALUACION DEL MODELO EXPORTADO --------------||\")\n",
    "modelo.evaluate_tflite('D:\\\\TFG\\\\EXPERIMENTOS\\\\ModelosMuseo\\\\efficientnet_lite4_vitrinas_20220705\\\\model.tflite',datosTest)"
   ]
  },
  {
   "cell_type": "markdown",
   "id": "f3aacfc7",
   "metadata": {},
   "source": [
    "### RESUMEN DE LA ARQUITECTURA"
   ]
  },
  {
   "cell_type": "code",
   "execution_count": null,
   "id": "e645c22f",
   "metadata": {},
   "outputs": [],
   "source": [
    "modelo.summary()"
   ]
  },
  {
   "cell_type": "markdown",
   "id": "6add8830",
   "metadata": {},
   "source": [
    "### NOTAS DEL CUADERNO\n",
    "* ENTRENAMIENTO Nº1\n",
    "    * TIEMPO INICIO:\n",
    "    * TIEMPO FINAL:\n",
    "    * DURACIÓN:\n",
    "    * INFORMACIÓN ENTRENAMIENTO:\n",
    "    ~~~\n",
    "    model_spec ('efficient_lite0') =\n",
    "    batch_size (None) [64] =\n",
    "    epochs (None) [10] = \n",
    "    steps_per_epoch (None) =\n",
    "    train_whole_model (None) = \n",
    "    dropout_rate (None) [0.2] = \n",
    "    learning_rate (None) [0.004] = \n",
    "    momentum (None) =\n",
    "    shuffle (False) =\n",
    "    use_augmentation (False) =\n",
    "    use_hub_library (True)[] =\n",
    "    warmups_steps (None) [None] =\n",
    "    model_dir (None) [tempfile.mkdtemp()] =\n",
    "    do_train (True) =\n",
    "    ~~~"
   ]
  },
  {
   "cell_type": "code",
   "execution_count": null,
   "id": "5fc5a66d",
   "metadata": {},
   "outputs": [],
   "source": []
  }
 ],
 "metadata": {
  "kernelspec": {
   "display_name": "Python 3 (ipykernel)",
   "language": "python",
   "name": "python3"
  },
  "language_info": {
   "codemirror_mode": {
    "name": "ipython",
    "version": 3
   },
   "file_extension": ".py",
   "mimetype": "text/x-python",
   "name": "python",
   "nbconvert_exporter": "python",
   "pygments_lexer": "ipython3",
   "version": "3.9.12"
  }
 },
 "nbformat": 4,
 "nbformat_minor": 5
}
