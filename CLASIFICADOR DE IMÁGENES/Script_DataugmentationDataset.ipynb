{
 "cells": [
  {
   "cell_type": "markdown",
   "id": "4a33ed13",
   "metadata": {},
   "source": [
    "# SCRIPT PARA AUMENTAR DATASET\n",
    "Script encargado de partiendo de la ruta raíz de la division en carpetas para el posterior entrenamiento, aumentar este con el fin de evitar overfitting"
   ]
  },
  {
   "cell_type": "markdown",
   "id": "8557d479",
   "metadata": {},
   "source": [
    "### IMPORTACIÓN DE LIBRERIAS NECESARIAS\n",
    "Se definen el conjunto de librerias necesarias utilizadas para tratar las imagenes originales y crear nuevas mediante su modificacion, estas son:\n",
    "* OpenCV (libreria principal de tratamiento de imagenes)  [cv2]\n",
    "* OS (libreria para interactuar con el sistema operativo)  [os]\n",
    "* Numpy (librería para tratar estructuras de datos) [np]\n",
    "* Random (libreria para generar datos aleatorios)  [random]"
   ]
  },
  {
   "cell_type": "code",
   "execution_count": 1,
   "id": "802bb697",
   "metadata": {},
   "outputs": [],
   "source": [
    "import cv2\n",
    "import os\n",
    "import numpy as np\n",
    "import random"
   ]
  },
  {
   "cell_type": "markdown",
   "id": "6c6d70b0",
   "metadata": {},
   "source": [
    "### DEFINICIÓN DE TÉCNICAS DE AUMENTADO\n",
    "Conjunto de metodos que se aplicaran sobre las imagenes originales\n",
    "* Imagen original -> Imagen gris\n",
    "* Imagen original -> Imagen rotada con grados aleatorios\n",
    "* Imagen original -> Imagen con difuminación gaussiana\n",
    "* Imagen original -> Imagen con difuminación sal y pimienta\n",
    "* Imagen original -> Imagen con modificación de brillo\n",
    "* Imagen original -> Imagen con modificación de contraste\n",
    "* Imagen original -> Imagen espejo sobre eje horizontal\n",
    "* Imagen original -> Imagen espejo sobre eje vertical\n",
    "* Imagen original -> Imagen con zoom aplicado"
   ]
  },
  {
   "cell_type": "code",
   "execution_count": 2,
   "id": "b0a5f321",
   "metadata": {},
   "outputs": [],
   "source": [
    "def imagen_a_gris(img):\n",
    "    return cv2.cvtColor(img,cv2.COLOR_BGR2GRAY)\n",
    "\n",
    "def rotacion_aleatoria(img,grados_rotacion):\n",
    "    height,width = img.shape[0:2]\n",
    "    if(grados_rotacion >= -360 and grados_rotacion <= 360): gradosGiro = grados_rotacion\n",
    "    else: gradosGiro = random.randint(-180,180)\n",
    "    matrix = cv2.getRotationMatrix2D((width//2,height//2),gradosGiro,1)#0.70\n",
    "    return cv2.warpAffine(img,matrix,(width,height))#borderMode=cv2.BORDER_CONSTANT,borderValue=(144,159,162)\n",
    "\n",
    "def difuminacion_gaussiana(img):\n",
    "    return cv2.GaussianBlur(img,(7,7),0)\n",
    "\n",
    "def difuminacion_sal_pimienta(img):\n",
    "    return cv2.medianBlur(img,5)\n",
    "\n",
    "def brillo(img):\n",
    "    brilloAleatorio = random.randint(-127,127)\n",
    "    return cv2.addWeighted(img,1,np.zeros(img.shape,img.dtype),1,brilloAleatorio)\n",
    "\n",
    "def contraste(img):\n",
    "    contrasteAleatorio = round(random.uniform(1.0,3.0),1)\n",
    "    return cv2.addWeighted(img,contrasteAleatorio,np.zeros(img.shape,img.dtype),0,0)\n",
    "\n",
    "def espejo_horizontal(img):\n",
    "    return cv2.flip(img,0)\n",
    "\n",
    "def espejo_vertical(img):\n",
    "    return cv2.flip(img,1)\n",
    "\n",
    "def zoom(img):\n",
    "    # Cortamos imagen\n",
    "    height,width = img.shape[0:2]\n",
    "    startRow = int(height*.15)\n",
    "    startCol = int(width*.15)\n",
    "    endRow = int(height*.85)\n",
    "    endCol = int(width*.85)\n",
    "    # Reescalamos\n",
    "    return img[startRow:endRow,startCol:endCol]"
   ]
  },
  {
   "cell_type": "markdown",
   "id": "89933b8a",
   "metadata": {},
   "source": [
    "### DEFINICION DE RUTA DE RAIZ CONJUNTO ENTRENAMIENTO\n",
    "Definimos la ruta absoluta a la raíz de la que cuelgan las carpetas etiquetadas para el posterior entrenamiento"
   ]
  },
  {
   "cell_type": "code",
   "execution_count": 3,
   "id": "7b231bc9",
   "metadata": {},
   "outputs": [],
   "source": [
    "# Entrenamiento X salas aumentado\n",
    "ruta_dataset = 'D:\\TFG\\EXPERIMENTOS\\DATASET_MUSEO\\DatasetXSalasAug' \n",
    "# Entrenamiento X vitrinas aumentado\n",
    "#ruta_dataset = 'D:\\TFG\\EXPERIMENTOS\\DATASET_MUSEO\\DatasetXVitrinaAug' "
   ]
  },
  {
   "cell_type": "markdown",
   "id": "369c2dbc",
   "metadata": {},
   "source": [
    "### EJECUCIÓN DEL AUMENTO\n",
    "Se inicia el proceso del aumento de imagenes"
   ]
  },
  {
   "cell_type": "code",
   "execution_count": 4,
   "id": "19568a55",
   "metadata": {},
   "outputs": [
    {
     "name": "stdout",
     "output_type": "stream",
     "text": [
      "Ruta del dataset: \n",
      "['Coleccion Sala Permanente III_0', 'Coleccion Sala Permanente II_0', 'Coleccion Sala Permanente IV_0', 'Coleccion Sala Permanente I_0', 'Sala de Atlanta_0', 'Sala de Escipion_0', 'Sala de Ola_0', 'Vestibulo II_0']\n",
      "||----------------------------- INICIO AUMENTO ------------------------||\n",
      "Coleccion Sala Permanente III_0 ************************* 12 %\n",
      "Coleccion Sala Permanente II_0 ************************* 25 %\n",
      "Coleccion Sala Permanente IV_0 ************************* 37 %\n",
      "Coleccion Sala Permanente I_0 ************************* 50 %\n",
      "Sala de Atlanta_0 ************************* 62 %\n",
      "Sala de Escipion_0 ************************* 75 %\n",
      "Sala de Ola_0 ************************* 87 %\n",
      "Vestibulo II_0 ************************* 100 %\n"
     ]
    }
   ],
   "source": [
    "carpetasClases = os.listdir(ruta_dataset)\n",
    "print(\"Ruta del dataset: \")\n",
    "print(carpetasClases)\n",
    "listadoImagenes = []\n",
    "controlCarpeta = 0\n",
    "print(\"||----------------------------- INICIO AUMENTO ------------------------||\")\n",
    "for carpetaClase in carpetasClases:\n",
    "    # Control estado operacion\n",
    "    controlCarpeta = controlCarpeta + 1\n",
    "    print(carpetaClase+\" ************************* \"+str((controlCarpeta*100)//len(carpetasClases))+\" %\")\n",
    "    # Aug\n",
    "    listadoImagenes = []\n",
    "    listadoImagenes.append(os.listdir(os.path.join(ruta_dataset,carpetaClase)))\n",
    "    for listaImagenes in listadoImagenes:\n",
    "        for imagen in listaImagenes:\n",
    "            rutaImagen = os.path.join(ruta_dataset,carpetaClase,imagen)\n",
    "            img = cv2.imread(rutaImagen)\n",
    "            nombreReformateo = imagen.split(\".\")\n",
    "            if len(nombreReformateo) == 2:\n",
    "                # Imagen a gris\n",
    "                cv2.imwrite(os.path.join(ruta_dataset,carpetaClase,nombreReformateo[0]+\"_gris.\"+nombreReformateo[1]),imagen_a_gris(img))\n",
    "                # Rotacion aleatoria\n",
    "                cv2.imwrite(os.path.join(ruta_dataset,carpetaClase,nombreReformateo[0]+\"_rotacion1.\"+nombreReformateo[1]),rotacion_aleatoria(img,15))\n",
    "                cv2.imwrite(os.path.join(ruta_dataset,carpetaClase,nombreReformateo[0]+\"_rotacion2.\"+nombreReformateo[1]),rotacion_aleatoria(img,-15))\n",
    "                cv2.imwrite(os.path.join(ruta_dataset,carpetaClase,nombreReformateo[0]+\"_rotacion3.\"+nombreReformateo[1]),rotacion_aleatoria(img,30))\n",
    "                cv2.imwrite(os.path.join(ruta_dataset,carpetaClase,nombreReformateo[0]+\"_rotacion4.\"+nombreReformateo[1]),rotacion_aleatoria(img,-30))\n",
    "                cv2.imwrite(os.path.join(ruta_dataset,carpetaClase,nombreReformateo[0]+\"_rotacion5.\"+nombreReformateo[1]),rotacion_aleatoria(img,45))\n",
    "                cv2.imwrite(os.path.join(ruta_dataset,carpetaClase,nombreReformateo[0]+\"_rotacion6.\"+nombreReformateo[1]),rotacion_aleatoria(img,-45))\n",
    "                # Difuminacion\n",
    "                cv2.imwrite(os.path.join(ruta_dataset,carpetaClase,nombreReformateo[0]+\"_difGauss.\"+nombreReformateo[1]),difuminacion_gaussiana(img))\n",
    "                cv2.imwrite(os.path.join(ruta_dataset,carpetaClase,nombreReformateo[0]+\"_difSyP.\"+nombreReformateo[1]),difuminacion_sal_pimienta(img))\n",
    "                # Brillo\n",
    "                cv2.imwrite(os.path.join(ruta_dataset,carpetaClase,nombreReformateo[0]+\"_brillo1.\"+nombreReformateo[1]),brillo(img))\n",
    "                cv2.imwrite(os.path.join(ruta_dataset,carpetaClase,nombreReformateo[0]+\"_brillo2.\"+nombreReformateo[1]),brillo(img))\n",
    "                cv2.imwrite(os.path.join(ruta_dataset,carpetaClase,nombreReformateo[0]+\"_brillo3.\"+nombreReformateo[1]),brillo(img))\n",
    "                cv2.imwrite(os.path.join(ruta_dataset,carpetaClase,nombreReformateo[0]+\"_brillo4.\"+nombreReformateo[1]),brillo(img))\n",
    "                # Contraste\n",
    "                cv2.imwrite(os.path.join(ruta_dataset,carpetaClase,nombreReformateo[0]+\"_contraste1.\"+nombreReformateo[1]),contraste(img))\n",
    "                cv2.imwrite(os.path.join(ruta_dataset,carpetaClase,nombreReformateo[0]+\"_contraste2.\"+nombreReformateo[1]),contraste(img))\n",
    "                cv2.imwrite(os.path.join(ruta_dataset,carpetaClase,nombreReformateo[0]+\"_contraste3.\"+nombreReformateo[1]),contraste(img))\n",
    "                # Espejo\n",
    "                cv2.imwrite(os.path.join(ruta_dataset,carpetaClase,nombreReformateo[0]+\"_espejoH.\"+nombreReformateo[1]),espejo_horizontal(img))\n",
    "                cv2.imwrite(os.path.join(ruta_dataset,carpetaClase,nombreReformateo[0]+\"_espejoV.\"+nombreReformateo[1]),espejo_vertical(img))\n",
    "                # Zoom\n",
    "                cv2.imwrite(os.path.join(ruta_dataset,carpetaClase,nombreReformateo[0]+\"_zoom.\"+nombreReformateo[1]),zoom(img))\n",
    "            else:\n",
    "                # Imagen a gris\n",
    "                cv2.imwrite(os.path.join(ruta_dataset,carpetaClase,nombreReformateo[0]+\"_gris.jpg\"),imagen_a_gris(img))\n",
    "                # Rotacion aleatoria\n",
    "                cv2.imwrite(os.path.join(ruta_dataset,carpetaClase,nombreReformateo[0]+\"_rotacion1.jpg\"),rotacion_aleatoria(img,15))\n",
    "                cv2.imwrite(os.path.join(ruta_dataset,carpetaClase,nombreReformateo[0]+\"_rotacion2.jpg\"),rotacion_aleatoria(img,-15))\n",
    "                cv2.imwrite(os.path.join(ruta_dataset,carpetaClase,nombreReformateo[0]+\"_rotacion3.jpg\"),rotacion_aleatoria(img,30))\n",
    "                cv2.imwrite(os.path.join(ruta_dataset,carpetaClase,nombreReformateo[0]+\"_rotacion4.jpg\"),rotacion_aleatoria(img,-30))\n",
    "                cv2.imwrite(os.path.join(ruta_dataset,carpetaClase,nombreReformateo[0]+\"_rotacion5.jpg\"),rotacion_aleatoria(img,45))\n",
    "                cv2.imwrite(os.path.join(ruta_dataset,carpetaClase,nombreReformateo[0]+\"_rotacion6.jpg\"),rotacion_aleatoria(img,-45))\n",
    "                # Difuminacion\n",
    "                cv2.imwrite(os.path.join(ruta_dataset,carpetaClase,nombreReformateo[0]+\"_difGauss.jpg\"),difuminacion_gaussiana(img))\n",
    "                cv2.imwrite(os.path.join(ruta_dataset,carpetaClase,nombreReformateo[0]+\"_difSyP.jpg\"),difuminacion_sal_pimienta(img))\n",
    "                # Brillo\n",
    "                cv2.imwrite(os.path.join(ruta_dataset,carpetaClase,nombreReformateo[0]+\"_brillo1.jpg\"),brillo(img))\n",
    "                cv2.imwrite(os.path.join(ruta_dataset,carpetaClase,nombreReformateo[0]+\"_brillo2.jpg\"),brillo(img))\n",
    "                cv2.imwrite(os.path.join(ruta_dataset,carpetaClase,nombreReformateo[0]+\"_brillo3.jpg\"),brillo(img))\n",
    "                cv2.imwrite(os.path.join(ruta_dataset,carpetaClase,nombreReformateo[0]+\"_brillo4.jpg\"),brillo(img))\n",
    "                # Contraste\n",
    "                cv2.imwrite(os.path.join(ruta_dataset,carpetaClase,nombreReformateo[0]+\"_contraste1.jpg\"),contraste(img))\n",
    "                cv2.imwrite(os.path.join(ruta_dataset,carpetaClase,nombreReformateo[0]+\"_contraste2.jpg\"),contraste(img))\n",
    "                cv2.imwrite(os.path.join(ruta_dataset,carpetaClase,nombreReformateo[0]+\"_contraste3.jpg\"),contraste(img))\n",
    "                # Espejo\n",
    "                cv2.imwrite(os.path.join(ruta_dataset,carpetaClase,nombreReformateo[0]+\"_espejoH.jpg\"),espejo_horizontal(img))\n",
    "                cv2.imwrite(os.path.join(ruta_dataset,carpetaClase,nombreReformateo[0]+\"_espejoV.jpg\"),espejo_vertical(img))\n",
    "                # Zoom\n",
    "                cv2.imwrite(os.path.join(ruta_dataset,carpetaClase,nombreReformateo[0]+\"_zoom.jpg\"),zoom(img))"
   ]
  },
  {
   "cell_type": "code",
   "execution_count": null,
   "id": "dad7dc92",
   "metadata": {},
   "outputs": [],
   "source": []
  }
 ],
 "metadata": {
  "kernelspec": {
   "display_name": "Python 3 (ipykernel)",
   "language": "python",
   "name": "python3"
  },
  "language_info": {
   "codemirror_mode": {
    "name": "ipython",
    "version": 3
   },
   "file_extension": ".py",
   "mimetype": "text/x-python",
   "name": "python",
   "nbconvert_exporter": "python",
   "pygments_lexer": "ipython3",
   "version": "3.9.12"
  }
 },
 "nbformat": 4,
 "nbformat_minor": 5
}
